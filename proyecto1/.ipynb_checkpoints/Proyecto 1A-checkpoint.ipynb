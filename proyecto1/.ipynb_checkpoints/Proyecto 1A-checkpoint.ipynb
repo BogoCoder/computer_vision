{
 "cells": [
  {
   "cell_type": "markdown",
   "id": "mental-ghana",
   "metadata": {},
   "source": [
    "# Proyecto 1A: Colorizando una colección de fotos\n",
    "![](image1.jpg)"
   ]
  },
  {
   "cell_type": "markdown",
   "id": "spanish-motor",
   "metadata": {
    "lang": "es"
   },
   "source": [
    "## Introducción\n",
    "Sergei Mikhailovich Prokudin-Gorskii (1863-1944) fue un hombre muy adelantado a su tiempo. Convencido, ya en 1907, de que la fotografía en color era el futuro, ganó el permiso especial de Tzar para viajar a través del vasto Imperio Ruso y tomar fotografías en color de todo lo que vio, incluido el único retrato en color de León Tolstoi. Y realmente lo fotografió todo: personas, edificios, paisajes, vías férreas, puentes, etc. ¡miles de fotografías en color! Su idea era simple: grabar tres exposiciones de cada escena en una placa de vidrio usando un filtro rojo, verde y azul. No importa que no hubiera forma de imprimir fotografías en color hasta mucho más tarde; él imaginó proyectores especiales para ser instalados en aulas \"multimedia\" en toda Rusia donde los niños pudieran aprender sobre su vasto país. Por desgracia, sus planes nunca se materializaron: dejó Rusia en 1918, justo después de la revolución, para no volver nunca más. Afortunadamente, sus negativos de placa de vidrio RGB, que capturan los últimos años del Imperio ruso, sobrevivieron y fueron comprados en 1948 por la Biblioteca del Congreso de Estados Unidos. La Librería ha digitalizado recientemente los negativos y los ha puesto a disposición en línea."
   ]
  },
  {
   "cell_type": "markdown",
   "id": "raising-purse",
   "metadata": {
    "lang": "es"
   },
   "source": [
    "## Objetivo\n",
    "El objetivo de este proyecto es tomar las imágenes digitalizadas en la placa de vidrio Prokudin-Gorskii y, utilizando técnicas de procesamiento de imágenes, producir automáticamente una imagen en color con la menor cantidad posible de artefactos visuales. Para hacer esto, deberá extraer las imágenes de los tres canales de color, colocarlas una encima de la otra y alinearlas para que formen una única imagen de color RGB. \n",
    "\n",
    "Una explicación interesante sobre cómo la Biblioteca del Congreso de Estados Unidos (LoC) creó las imágenes en color en su sitio está disponible [aquí](http://www.loc.gov/exhibits/empire/making.html).\n",
    "\n",
    "Un ejemplo de código en python se encuentra en el archivo de `colorizar.py`.  Supondremos que un modelo de traslación x, y simple es suficiente para una alineación adecuada. Sin embargo, las imágenes de la placa de vidrio de tamaño completo son muy grandes, por lo que su procedimiento de alineación deberá ser relativamente rápido y eficiente."
   ]
  },
  {
   "cell_type": "markdown",
   "id": "painful-compensation",
   "metadata": {
    "lang": "es"
   },
   "source": [
    "## Implementación\n",
    "\n",
    "Algunas de las imágenes de placas de vidrio digitalizadas (versiones de alta y baja resolución) se encuentran en [este directorio de imágenes](https://uredu-my.sharepoint.com/:f:/g/personal/edwin_alferez_urosario_edu_co/EnGMtgyi-upBoW2wFSaER_UBppbIl5YMy4CiTNJ6ffl3vw?e=soJ6pe) (tenga en cuenta que el orden de filtro de arriba a abajo es BGR, no RGB). El programa que desarrolle tomará una imagen de placa de vidrio como entrada y producirá una imagen de un solo color como salida. El programa debe dividir la imagen en tres partes iguales y alinear la segunda y la tercera parte (G y R) con la primera (B). Para cada imagen, deberá imprimir el vector de desplazamiento (x, y) que se utilizó para alinear las piezas.\n",
    "\n",
    "La forma más fácil de alinear las partes es buscar exhaustivamente en una ventana de posibles desplazamientos (digamos [-15,15] píxeles), puntuar cada una usando alguna métrica de coincidencia de imágenes y tomar el desplazamiento con la mejor puntuación. Hay una serie de métricas posibles que se pueden utilizar para puntuar qué tan bien coinciden las imágenes. La más simple es la norma L2, también conocida como distancia de suma de diferencias cuadradas (SSD), que es simplemente `sum(sum((imagen1-imagen2)**2))` donde la suma se toma sobre los valores de píxeles. Otra métrica es la correlación cruzada normalizada (NCC), que es simplemente un producto escalar entre dos vectores normalizados: $\\frac{Imagen1}{||Imagen1||}$ y $\\frac{Imagen2}{||Imagen2||}$. Tenga en cuenta que en el caso de la imagen `emir.tif`, las imágenes que se van a comparar en realidad no tienen los mismos valores de brillo (son canales de color diferentes), por lo que es posible que deba utilizar una métrica más inteligente o características diferentes que los píxeles sin procesar.\n",
    "\n",
    "La búsqueda exhaustiva se volverá prohibitivamente costosa si el desplazamiento de píxeles es demasiado grande (que será el caso de los escaneos de placas de vidrio de alta resolución). En este caso, deberá implementar un procedimiento de búsqueda más rápido, como una pirámide de imágenes. Una pirámide de imágenes representa la imagen en múltiples escalas (generalmente escaladas por un factor de 2) y el procesamiento se realiza secuencialmente comenzando desde la escala más gruesa (imagen más pequeña) y bajando por la pirámide, actualizando su estimación a medida que avanza. Es muy fácil de implementar agregando llamadas recursivas a su implementación original de escala única. Puede usar por ejemplo la función de `skimage.transform.rescale` (vea también [este ejemplo](https://scikit-image.org/docs/dev/auto_examples/transform/plot_pyramid.html) ).\n",
    "\n",
    "Su trabajo será implementar un algoritmo que, dada una imagen de 3 canales, produzca una imagen en color como salida. Primero implemente una versión simple de una sola escala, usando bucles for, buscando en una ventana de desplazamientos especificada por el usuario (en el notebook). Puede comenzar con base en el código de `colorear.py` (pero debe mejorarlo) eligiendo una de las imágenes .jpg más pequeñas en el directorio para probar esta versión del código. A continuación, agregue una aceleración mediante el método piramidal (de escala gruesa a más fina) para manejar imágenes grandes como las .tiff proporcionadas en el directorio."
   ]
  },
  {
   "cell_type": "markdown",
   "id": "sound-bosnia",
   "metadata": {
    "lang": "es"
   },
   "source": [
    "## Ideas extra\n",
    "\n",
    "Aunque las imágenes en color resultantes de este procedimiento automático a menudo parecerán sorprendentemente reales, todavía están muy lejos de las versiones restauradas manualmente disponibles en el sitio web de LoC y de otros fotógrafos profesionales. Por supuesto, cada fotografía de este tipo requiere días de minucioso trabajo de Photoshop, ajustando los niveles de color, eliminando las imperfecciones, agregando contraste, etc. ¿Podemos hacer algunos de estos ajustes automáticamente, sin el ser humano al tanto? No dude en proponer sus propios enfoques. No hay una respuesta correcta aquí, simplemente pruebe las cosas y vea qué funciona. Por ejemplo, los bordes de la fotografía tendrán colores extraños ya que los tres canales no se alinearán exactamente. Vea si puede idear una forma automática de recortar el borde para deshacerse de las cosas malas. Una posible idea es que la información en las partes buenas de la imagen generalmente concuerda en los canales de color, mientras que en los bordes no.\n",
    "\n",
    "Aquí hay algunas ideas, pero puede tener ud mismo otras:\n",
    "\n",
    "- Recorte automático. Quite los bordes blancos, negros u otros colores. No se limite a recortar un margen predefinido de cada lado; en realidad, intente detectar los bordes o el borde entre el borde y la imagen.\n",
    "- Contraste automático. Por lo general, es seguro cambiar la escala de las intensidades de imagen de manera que el píxel más oscuro sea cero (en su canal de color más oscuro) y el píxel más brillante sea 1 (en su canal de color más brillante). Las asignaciones más drásticas o no lineales pueden mejorar la calidad de imagen percibida.\n",
    "- Balance de blancos automático. Esto implica dos problemas: 1) estimar el iluminante y 2) manipular los colores para contrarrestar el iluminante y simular un iluminante neutro. El paso 1 es difícil en general, mientras que el paso 2 es simple (consulte la página de Wikipedia sobre Balance de color y la sección 2.3.2 del libro Szeliski). Existen algunos algoritmos simples para el paso 1, que no necesariamente funcionan bien: suponga que el color promedio o el color más brillante es el iluminante y cámbielos a gris o blanco.\n",
    "- Mejor mapeo de colores. No hay razón para suponer (como lo hemos hecho) que las lentes roja, verde y azul utilizadas por Produkin-Gorskii corresponden directamente a los canales R, G y B en el espacio de color RGB. Intente encontrar un mapeo que produzca colores más realistas (y quizás haga que el balance de blancos automático sea menos necesario).\n",
    "- Mejores funciones. En lugar de alinear según la similitud RGB, intente usar degradados o bordes.\n",
    "- Mejores transformaciones. En lugar de buscar la mejor traducción xey, busque además cambios y rotaciones a pequeña escala. Agregar dos dimensiones más a su búsqueda ralentizará las cosas, pero el mismo curso hacia una progresión fina debería ayudar a aliviar esto."
   ]
  },
  {
   "cell_type": "markdown",
   "id": "impossible-abraham",
   "metadata": {},
   "source": [
    "## Entregables\n",
    "\n",
    "Para este proyecto debera entregar el desarrollo y visualización de los resultados en un notebook de jupyter donde se muestre el código realizado (y las pruebas). También, debe entregar un pequeño informe del proyecto con una breve descripción del proyecto explicando el enfoque desarrollado y el análisis de los resultados .(Puede ser otro notebook, pero sin código, o un documento en PDF).\n",
    "\n",
    "Es aconsejable en el notebook solo mostrar las imágenes (resultados) en un formato comprimido (jpg por ejm). Los resultados de algunas imágenes de alta resolución es mejor entregarlos en archivos de imágenes.  Muestre los resultados mostrando las imagenes originales y las posteriores al procedimiento. \n",
    "Si el algoritmo desarrollado no puede alinear alguna imagen, o el resultado no es bueno, explique por qué sucede esto. Describa cualquier idea extra implementada. "
   ]
  },
  {
   "cell_type": "markdown",
   "id": "experimental-black",
   "metadata": {
    "lang": "es"
   },
   "source": [
    "## Consejos \n",
    "- Para la tarea principal, debe implementar casi todo desde cero (excepto las funciones para leer, escribir, cambiar el tamaño, cambiar y mostrar imágenes). En particular, no se permite usar funciones de alto nivel, como para construir pirámides laplacianas / gaussianas, alinear imágenes automáticamente, etc. Si tiene dudas al respecto puede preguntar.\n",
    "- Se espera que el tiempo de ejecución medio sea inferior a 1 minuto por imagen. Si su programa tarda horas en finalizar, debería optimizar aún más el código.\n",
    "- Intente vectorizar / paralelizar su código y evitar usar demasiados bucles FOR. \n",
    "- Para todos los proyectos, no se atasque ajustando los parámetros de entrada. La mayoría de las imágenes, pero no todas, se alinearán con los mismos parámetros. Sus resultados finales deben ser el producto de un conjunto fijo de parámetros (si tiene parámetros libres). No se preocupe si una o dos de las imágenes del  no se alinean correctamente utilizando las métricas más simples sugeridas aquí.\n",
    "- Las imágenes de entrada pueden estar en formato jpg (uint8) o tiff (uint16), recuerde convertir todos los formatos a la misma escala (por ejemplo a float).\n",
    "- Desplazar una matriz es fácil usando `np.roll`. \n",
    "- Los bordes de las imágenes probablemente dañarán sus resultados, intente calcular su métrica solo en los píxeles internos.\n",
    "- Guarde todas sus imágenes (resultados) a jpg, le ahorrará mucho espacio en el disco."
   ]
  },
  {
   "cell_type": "markdown",
   "id": "dynamic-notification",
   "metadata": {
    "heading_collapsed": true
   },
   "source": [
    "## Calificación\n",
    "- Se valorará como siempre la redacción y ortografía, que se entienda las explicaciones y la interpretabilidad del código. \n",
    "- Se puntúa hasta 3.0 para la implementación de la versión sencilla sobre las imágenes de baja resolución y 2.0 puntos para la versión (piramidal) de las imágenes de alta resolución."
   ]
  },
  {
   "cell_type": "code",
   "execution_count": null,
   "id": "european-escape",
   "metadata": {},
   "outputs": [],
   "source": []
  }
 ],
 "metadata": {
  "kernelspec": {
   "display_name": "Python 3",
   "language": "python",
   "name": "python3"
  },
  "language_info": {
   "codemirror_mode": {
    "name": "ipython",
    "version": 3
   },
   "file_extension": ".py",
   "mimetype": "text/x-python",
   "name": "python",
   "nbconvert_exporter": "python",
   "pygments_lexer": "ipython3",
   "version": "3.9.1"
  },
  "nbTranslate": {
   "displayLangs": [
    "es"
   ],
   "hotkey": "alt-t",
   "langInMainMenu": true,
   "sourceLang": "en",
   "targetLang": "es",
   "useGoogleTranslate": true
  },
  "varInspector": {
   "cols": {
    "lenName": 16,
    "lenType": 16,
    "lenVar": 40
   },
   "kernels_config": {
    "python": {
     "delete_cmd_postfix": "",
     "delete_cmd_prefix": "del ",
     "library": "var_list.py",
     "varRefreshCmd": "print(var_dic_list())"
    },
    "r": {
     "delete_cmd_postfix": ") ",
     "delete_cmd_prefix": "rm(",
     "library": "var_list.r",
     "varRefreshCmd": "cat(var_dic_list()) "
    }
   },
   "types_to_exclude": [
    "module",
    "function",
    "builtin_function_or_method",
    "instance",
    "_Feature"
   ],
   "window_display": false
  }
 },
 "nbformat": 4,
 "nbformat_minor": 5
}
