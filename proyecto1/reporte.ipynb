{
 "cells": [
  {
   "cell_type": "markdown",
   "metadata": {
    "cell_id": "00000-adec177e-23dd-4a9c-9344-d8827d3c8325",
    "deepnote_cell_type": "markdown",
    "tags": []
   },
   "source": [
    "# Introducción a la Visión por Computadora\n",
    "## Colorizando una colección de fotos\n",
    "### Nicolás Duque Báez y Samuel Pérez Díaz\n",
    "###### 2021-1"
   ]
  },
  {
   "cell_type": "markdown",
   "metadata": {
    "cell_id": "00000-ff270263-3735-4be8-b698-ce1e1e1a8ac6",
    "deepnote_cell_type": "markdown",
    "tags": []
   },
   "source": [
    "### 0. Introducción\n",
    "\n",
    "Sergei Mikhailovich Prokudin-Gorskii (1863-1944) fue un hombre muy adelantado a su tiempo. Convencido, ya en 1907, de que la fotografía en color era el futuro, ganó el permiso especial de Tzar para viajar a través del vasto Imperio Ruso y tomar fotografías en color de todo lo que vio, incluido el único retrato en color de León Tolstoi. Y realmente lo fotografió todo: personas, edificios, paisajes, vías férreas, puentes, etc. ¡miles de fotografías en color! Su idea era simple: grabar tres exposiciones de cada escena en una placa de vidrio usando un filtro rojo, verde y azul. No importa que no hubiera forma de imprimir fotografías en color hasta mucho más tarde; él imaginó proyectores especiales para ser instalados en aulas \"multimedia\" en toda Rusia donde los niños pudieran aprender sobre su vasto país. Por desgracia, sus planes nunca se materializaron: dejó Rusia en 1918, justo después de la revolución, para no volver nunca más. Afortunadamente, sus negativos de placa de vidrio RGB, que capturan los últimos años del Imperio ruso, sobrevivieron y fueron comprados en 1948 por la Biblioteca del Congreso de Estados Unidos. La Librería ha digitalizado recientemente los negativos y los ha puesto a disposición en línea."
   ]
  },
  {
   "cell_type": "markdown",
   "metadata": {
    "cell_id": "00001-96738e51-5328-4049-b685-8425a2b78a99",
    "deepnote_cell_type": "markdown",
    "tags": []
   },
   "source": [
    "### 1. Objetivo\n",
    "\n",
    "En este proyecoto se tomarán imanes digitalizadas, con el conocimiento adquirido de lo llevado en el curso, la idea es, apartir de estas, producir una imagen a color con la menor cantidad de imprecisiones posibles, esto es, realiza run ejercicio exhaustivo de alineación, limpieza, graduación y demás."
   ]
  },
  {
   "cell_type": "markdown",
   "metadata": {
    "cell_id": "00003-5325624d-650a-44cc-8db8-b55596e13dc1",
    "deepnote_cell_type": "markdown",
    "tags": []
   },
   "source": [
    "### 2. Desarrollo\n",
    "\n",
    "\n",
    "\n"
   ]
  },
  {
   "cell_type": "markdown",
   "metadata": {
    "cell_id": "00004-320c46d2-c718-4a45-b092-624ebbf62cbd",
    "deepnote_cell_type": "markdown",
    "tags": []
   },
   "source": [
    "##### 2.1. Alineación\n",
    "\n",
    "La imagenes utilizadas para el desarrollo de este proyecto se encuentran en [este directorio](https://uredu-my.sharepoint.com/personal/edwin_alferez_urosario_edu_co/_layouts/15/onedrive.aspx?id=%2Fpersonal%2Fedwin%5Falferez%5Furosario%5Fedu%5Fco%2FDocuments%2FintroCV%2FS8%5FProject%2Fimagenes&originalPath=aHR0cHM6Ly91cmVkdS1teS5zaGFyZXBvaW50LmNvbS86ZjovZy9wZXJzb25hbC9lZHdpbl9hbGZlcmV6X3Vyb3NhcmlvX2VkdV9jby9FbkdNdGd5aS11cEJvVzJ3RlNhRVJfVUJwcGJJbDVZTXk0Q2lUTko2ZmZsM3Z3P3J0aW1lPXltajNINHpiMkVn), la idea principal es sobreponer las tres componentes de cada imagen de tal manera que queden lo mejor alineadas posible, pero... ¿cómo sabemos que se está haciendo una buena alineación? Usando distintas métricas podremos determinar que tan buena es la alineación obtendida en el algoritmo realizado. Esta búsqueda es considerablemente exhaustiva ya que, como bien sabemos, existen distintas métricas y no todas los determinan la misma información, o mejor, no todas son la más pertinente para llegar a la conclusión deseada.\n",
    "\n",
    "En primer instancia, usamos la norma $L_2$, que consiste en la suma de las diferencias al cuadrado, este cálculo es realizado pixel a pixel; como estamos hablando de una suma de elementos positivos, lo esperado (y deseado) es que esa suma sea lo más pequeña posibles, hay que tener en cuenta que como se está trabajando con matrices de un tramaño bastante grande, este valor no es que tienda a cero. (¡ojalá!)\n",
    "\n",
    "Como segunda opción fue usar la métrica de correlación cruzada, que consiste en una interpretación algebraica tan simple como normalizar ambos vectores y calcular su producto escalar. Casualmente, el valor de estas dos métricas resultan siendo la misma, así que no existe la inquietud sobre cual vector de desplazamiento escoger como el más adecuado. \n",
    "\n",
    "A continuación mostraremos los resultados obtenidos al realizar este procedimiento. La primer imagen consiste únicamente en sobreponer las componentes sin ningpun tipo de ajuste en la alineación. La segunda y tercer imagen ya se hizo el respectivo ajuste de alineación, pero con la diferencia de que la segunda imagen fue producida gracias al vector de movimiento que propocionaba la norma de diferencias al cuadrado, y la tercer con el producto punto entre los vectores normalizados.\n",
    "\n",
    "El procedimiento para determinar este vector de desplazamiento consiste en, primero determinar un intervalo que será el cual se harán todas las pruebas del vector de desplazamiento, por ejemplo, se escogió el intervalo $(-15, 15)$ para que, en este intervalo, se prueben todos los vectores de desplazamiento, se calcula su norma y se escoge la menor (en el caso de diferencia de cuadrados) o la mayor (en el caso del producto escalar entre los vectores normalizados). No es confiable determinar a simple vista que dio el mismo resutltado, sin embargo, al hacer el cálculo, el vector de desplazamiento es el mismo, es decir, se obtuvo la misma imagen a color, eventualmente esto pasará con las demás imagenes de baja resolución. Observe las dos últimas."
   ]
  },
  {
   "cell_type": "markdown",
   "metadata": {
    "cell_id": "00005-2bdf318b-93d5-4859-a7ce-67a7930edfd9",
    "deepnote_cell_type": "markdown",
    "tags": []
   },
   "source": [
    "![](IMAGES/CathedralFirst.jpg)  ![](IMAGES/CathedralNCC.jpg)  ![](IMAGES/CathedralSSD.jpg) ![](IMAGES/TobolskSSD.jpg) ![](IMAGES/MonasterySSD.jpg)"
   ]
  },
  {
   "cell_type": "markdown",
   "metadata": {
    "cell_id": "00006-2b48d325-3136-42fa-9596-c612482ef867",
    "deepnote_cell_type": "markdown",
    "tags": []
   },
   "source": [
    "Este procedimiento se realizó sobre imagenes de baja resolución, por tanto, el vector de desplazamiento no es nada costoso. En imagenes de alta resolución (como la de Lady) este procedimiento termina siendo sumamente demorado, gastó más de 5 minutos y los resultados no fueron nada bueno (ver imagen), addemás, es poco barato si hablamos de costo computacional, se está recorriendo una matriz extremadamente grande para probar una cantidad considerable de vectores, por tal razón, es necesario implementar otro procedimiento. ![](IMAGES/LadySDD.png)\n",
    "\n",
    "\n"
   ]
  },
  {
   "cell_type": "markdown",
   "metadata": {
    "cell_id": "00007-acccf766-1660-4b4c-b81a-533054cece91",
    "deepnote_cell_type": "markdown",
    "tags": []
   },
   "source": [
    "##### 2.1. Piramidal\n",
    "\n",
    "Las pirámides de imágenes hacen referencia a una estrategia  sobre cómo podemos cambiar la escala de las imágenes y trabajar con copias más pequeñas de la misma imagen para acelerar la ejecución. En una miniatura de imagen de $400 \\times 400$, solo se necesitan unos segundos para encontrar la mejor alineación al escanear en el rango de posibles desplazamientos $(x, y)$ en (-15, +15), como bien vimos anteriormente\n",
    "\n",
    "Pero calcular el mismo cuadrado $(-15, +15)$ de posibles desplazamientos sobre los escaneos originales de $4000 \\times 4000$ píxeles lleva más de 5 minutos en una máquina. Y esto sin dar un buen resultado porque un desplazamiento de $15$ píxeles representa un desplazamiento de menos de medio por ciento, para nada suficiente para corregir la alineación de la imagen.\n",
    "\n",
    "Nuestro algoritmo piramidal de imagen primero recurre a una imagen del tamaño de una miniatura, resuelve el problema de alineación óptima para la copia en miniatura y luego devuelve el vector de desplazamiento a la persona que llama antes de intentar encontrar la mejor alineación para imágenes más grandes. Esto permite que la imagen más grande continúe donde se detuvo el procesamiento de la imagen más pequeña y aprovechar el progreso incremental realizado en la imagen más pequeña.\n",
    "\n",
    "A continuación se presentan dos imagenes de alta resolución las cuales fueron procesadas con este algoritmo."
   ]
  },
  {
   "cell_type": "markdown",
   "metadata": {
    "cell_id": "00010-1d47eed8-4c13-4dc7-803a-2bff9a220039",
    "deepnote_cell_type": "markdown",
    "tags": []
   },
   "source": [
    "![](IMAGES/EmirPyramid.jpg)"
   ]
  },
  {
   "cell_type": "markdown",
   "metadata": {
    "cell_id": "00011-a27a5820-a53e-4b65-a2bd-595cbb27aaf1",
    "deepnote_cell_type": "markdown",
    "tags": []
   },
   "source": [
    "![](IMAGES/LadyPyramid.jpg)"
   ]
  },
  {
   "cell_type": "markdown",
   "metadata": {
    "created_in_deepnote_cell": true,
    "deepnote_cell_type": "markdown",
    "tags": []
   },
   "source": [
    "##### 2.2. Recorte de bordes\n",
    "\n",
    "Yendo un poco más allá, a través del método de filtración y detección de bordes Sobel visto en clase, logramos automatizar la detección de los bordes feos que teníamos en los ejemplos anteriores y donde habían extraños efectos de colores. Después de realizar el recorte, los resultados mejoraron sustancialmente en el alineamiento:\n",
    "\n",
    "* `cathedral.jpg`\n",
    "\n",
    "![](IMAGES/cathedral.jpg)\n",
    "\n",
    "* `monastery.jpg`\n",
    "\n",
    "![](IMAGES/monastery.jpg)\n",
    "\n",
    "* `tobolsk.jpg`\n",
    "\n",
    "![](IMAGES/tobolsk.jpg)\n",
    "\n",
    "* `lady.tif`\n",
    "\n",
    "![](IMAGES/lady.jpg)\n",
    "\n",
    "* `emir.tif`\n",
    "\n",
    "![](IMAGES/emir.jpg)"
   ]
  },
  {
   "cell_type": "markdown",
   "metadata": {},
   "source": [
    "Puede observar más ejemplos de nuestros experimentos en la carpeta `/colorizadas`."
   ]
  }
 ],
 "metadata": {
  "deepnote": {},
  "deepnote_execution_queue": [],
  "deepnote_notebook_id": "299dea81-adc5-43f5-8906-72af851ac44e",
  "kernelspec": {
   "display_name": "Python 3",
   "language": "python",
   "name": "python3"
  },
  "language_info": {
   "codemirror_mode": {
    "name": "ipython",
    "version": 3
   },
   "file_extension": ".py",
   "mimetype": "text/x-python",
   "name": "python",
   "nbconvert_exporter": "python",
   "pygments_lexer": "ipython3",
   "version": "3.9.1"
  }
 },
 "nbformat": 4,
 "nbformat_minor": 2
}
